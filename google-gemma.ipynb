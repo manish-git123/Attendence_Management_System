{
 "cells": [
  {
   "cell_type": "code",
   "execution_count": 1,
   "id": "2bf96f24",
   "metadata": {
    "_cell_guid": "b1076dfc-b9ad-4769-8c92-a6c4dae69d19",
    "_uuid": "8f2839f25d086af736a60e9eeb907d3b93b6e0e5",
    "execution": {
     "iopub.execute_input": "2025-08-16T11:52:43.909558Z",
     "iopub.status.busy": "2025-08-16T11:52:43.909157Z",
     "iopub.status.idle": "2025-08-16T11:52:44.617943Z",
     "shell.execute_reply": "2025-08-16T11:52:44.616786Z"
    },
    "papermill": {
     "duration": 0.713598,
     "end_time": "2025-08-16T11:52:44.619596",
     "exception": false,
     "start_time": "2025-08-16T11:52:43.905998",
     "status": "completed"
    },
    "tags": []
   },
   "outputs": [
    {
     "name": "stdout",
     "output_type": "stream",
     "text": [
      "Path to model files: /kaggle/input/gemma/keras/gemma_1.1_instruct_2b_en/4\n"
     ]
    }
   ],
   "source": [
    "import kagglehub\n",
    "\n",
    "# Download latest version\n",
    "path = kagglehub.model_download(\"keras/gemma/keras/gemma_1.1_instruct_2b_en\")\n",
    "\n",
    "print(\"Path to model files:\", path)"
   ]
  }
 ],
 "metadata": {
  "kaggle": {
   "accelerator": "none",
   "dataSources": [
    {
     "modelId": 3533,
     "modelInstanceId": 22009,
     "sourceId": 205106,
     "sourceType": "modelInstanceVersion"
    }
   ],
   "dockerImageVersionId": 31089,
   "isGpuEnabled": false,
   "isInternetEnabled": false,
   "language": "python",
   "sourceType": "notebook"
  },
  "kernelspec": {
   "display_name": "Python 3",
   "language": "python",
   "name": "python3"
  },
  "language_info": {
   "codemirror_mode": {
    "name": "ipython",
    "version": 3
   },
   "file_extension": ".py",
   "mimetype": "text/x-python",
   "name": "python",
   "nbconvert_exporter": "python",
   "pygments_lexer": "ipython3",
   "version": "3.11.13"
  },
  "papermill": {
   "default_parameters": {},
   "duration": 6.097582,
   "end_time": "2025-08-16T11:52:45.040828",
   "environment_variables": {},
   "exception": null,
   "input_path": "__notebook__.ipynb",
   "output_path": "__notebook__.ipynb",
   "parameters": {},
   "start_time": "2025-08-16T11:52:38.943246",
   "version": "2.6.0"
  }
 },
 "nbformat": 4,
 "nbformat_minor": 5
}
